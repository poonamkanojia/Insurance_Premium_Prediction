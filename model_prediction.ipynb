{
 "cells": [
  {
   "cell_type": "code",
   "execution_count": 1,
   "id": "d1bfce54",
   "metadata": {},
   "outputs": [],
   "source": [
    "import numpy as np\n",
    "import pandas as pd\n",
    "from sklearn.preprocessing import StandardScaler\n",
    "from sklearn.model_selection import train_test_split\n",
    "from sklearn.linear_model import LinearRegression\n",
    "from sklearn.ensemble import RandomForestRegressor\n",
    "from sklearn.tree import DecisionTreeRegressor\n",
    "from sklearn.svm import SVR\n",
    "import xgboost as xgb\n",
    "from sklearn.metrics import r2_score, mean_squared_error, accuracy_score, confusion_matrix\n",
    "from sklearn.model_selection import cross_val_score, RandomizedSearchCV, GridSearchCV\n",
    "import matplotlib.pyplot as plt\n",
    "import seaborn as sns\n",
    "from sklearn.preprocessing import PolynomialFeatures, StandardScaler\n",
    "from sklearn.pipeline import Pipeline\n",
    "from sklearn.linear_model import Ridge\n",
    "import pickle"
   ]
  },
  {
   "cell_type": "code",
   "execution_count": 2,
   "id": "ea5e6dd6",
   "metadata": {},
   "outputs": [],
   "source": [
    "data = pd.read_csv('./insurance.csv')"
   ]
  },
  {
   "cell_type": "code",
   "execution_count": 3,
   "id": "e5a8c61b",
   "metadata": {},
   "outputs": [],
   "source": [
    "clean_data = {'sex': {'male' : 0 , 'female' : 1} ,\n",
    "                 'smoker': {'no': 0 , 'yes' : 1},\n",
    "                   'region' : {'northwest':0, 'northeast':1,'southeast':2,'southwest':3}\n",
    "               }\n",
    "data_copy = data.copy()\n",
    "data_copy.replace(clean_data, inplace=True)"
   ]
  },
  {
   "cell_type": "code",
   "execution_count": 4,
   "id": "88bec1ce",
   "metadata": {},
   "outputs": [
    {
     "data": {
      "text/html": [
       "<div>\n",
       "<style scoped>\n",
       "    .dataframe tbody tr th:only-of-type {\n",
       "        vertical-align: middle;\n",
       "    }\n",
       "\n",
       "    .dataframe tbody tr th {\n",
       "        vertical-align: top;\n",
       "    }\n",
       "\n",
       "    .dataframe thead th {\n",
       "        text-align: right;\n",
       "    }\n",
       "</style>\n",
       "<table border=\"1\" class=\"dataframe\">\n",
       "  <thead>\n",
       "    <tr style=\"text-align: right;\">\n",
       "      <th></th>\n",
       "      <th>age</th>\n",
       "      <th>sex</th>\n",
       "      <th>bmi</th>\n",
       "      <th>children</th>\n",
       "      <th>smoker</th>\n",
       "      <th>region</th>\n",
       "      <th>expenses</th>\n",
       "    </tr>\n",
       "  </thead>\n",
       "  <tbody>\n",
       "    <tr>\n",
       "      <th>0</th>\n",
       "      <td>-1.438764</td>\n",
       "      <td>1</td>\n",
       "      <td>-0.453646</td>\n",
       "      <td>0</td>\n",
       "      <td>1</td>\n",
       "      <td>3</td>\n",
       "      <td>0.298583</td>\n",
       "    </tr>\n",
       "    <tr>\n",
       "      <th>1</th>\n",
       "      <td>-1.509965</td>\n",
       "      <td>0</td>\n",
       "      <td>0.514186</td>\n",
       "      <td>1</td>\n",
       "      <td>0</td>\n",
       "      <td>2</td>\n",
       "      <td>-0.953689</td>\n",
       "    </tr>\n",
       "    <tr>\n",
       "      <th>2</th>\n",
       "      <td>-0.797954</td>\n",
       "      <td>0</td>\n",
       "      <td>0.382954</td>\n",
       "      <td>3</td>\n",
       "      <td>0</td>\n",
       "      <td>2</td>\n",
       "      <td>-0.728675</td>\n",
       "    </tr>\n",
       "    <tr>\n",
       "      <th>3</th>\n",
       "      <td>-0.441948</td>\n",
       "      <td>0</td>\n",
       "      <td>-1.306650</td>\n",
       "      <td>0</td>\n",
       "      <td>0</td>\n",
       "      <td>0</td>\n",
       "      <td>0.719843</td>\n",
       "    </tr>\n",
       "    <tr>\n",
       "      <th>4</th>\n",
       "      <td>-0.513149</td>\n",
       "      <td>0</td>\n",
       "      <td>-0.289606</td>\n",
       "      <td>0</td>\n",
       "      <td>0</td>\n",
       "      <td>0</td>\n",
       "      <td>-0.776802</td>\n",
       "    </tr>\n",
       "  </tbody>\n",
       "</table>\n",
       "</div>"
      ],
      "text/plain": [
       "        age  sex       bmi  children  smoker  region  expenses\n",
       "0 -1.438764    1 -0.453646         0       1       3  0.298583\n",
       "1 -1.509965    0  0.514186         1       0       2 -0.953689\n",
       "2 -0.797954    0  0.382954         3       0       2 -0.728675\n",
       "3 -0.441948    0 -1.306650         0       0       0  0.719843\n",
       "4 -0.513149    0 -0.289606         0       0       0 -0.776802"
      ]
     },
     "execution_count": 4,
     "metadata": {},
     "output_type": "execute_result"
    }
   ],
   "source": [
    "data_pre = data_copy.copy()\n",
    "\n",
    "tempBmi = data_pre.bmi\n",
    "tempBmi = tempBmi.values.reshape(-1,1)\n",
    "data_pre['bmi'] = StandardScaler().fit_transform(tempBmi)\n",
    "\n",
    "tempAge = data_pre.age\n",
    "tempAge = tempAge.values.reshape(-1,1)\n",
    "data_pre['age'] = StandardScaler().fit_transform(tempAge)\n",
    "\n",
    "tempExpenses = data_pre.expenses\n",
    "tempExpenses = tempExpenses.values.reshape(-1,1)\n",
    "data_pre['expenses'] = StandardScaler().fit_transform(tempExpenses)\n",
    "\n",
    "data_pre.head()"
   ]
  },
  {
   "cell_type": "code",
   "execution_count": 5,
   "id": "2024c025",
   "metadata": {},
   "outputs": [],
   "source": [
    "X = data_pre.drop('expenses',axis=1).values\n",
    "y = data_pre['expenses'].values.reshape(-1,1)\n",
    "X_train, X_test, y_train, y_test = train_test_split(X,y,test_size=0.2, random_state=100)"
   ]
  },
  {
   "cell_type": "code",
   "execution_count": 6,
   "id": "78d068fd",
   "metadata": {},
   "outputs": [
    {
     "data": {
      "text/plain": [
       "LinearRegression()"
      ]
     },
     "execution_count": 6,
     "metadata": {},
     "output_type": "execute_result"
    }
   ],
   "source": [
    "linear_reg = LinearRegression()\n",
    "linear_reg.fit(X_train, y_train)"
   ]
  },
  {
   "cell_type": "code",
   "execution_count": 7,
   "id": "e8c62bac",
   "metadata": {},
   "outputs": [
    {
     "name": "stdout",
     "output_type": "stream",
     "text": [
      "CV Linear Regression : 0.745\n",
      "R2_score (test) : 0.794\n",
      "RMSE : 0.469\n"
     ]
    }
   ],
   "source": [
    "cv_linear = cross_val_score(estimator = linear_reg, X = X, y = y, cv = 10)\n",
    "y_pred = linear_reg.predict(X_test)\n",
    "r2_score_test = r2_score(y_test,y_pred)\n",
    "rmse = np.sqrt(mean_squared_error(y_test,y_pred))\n",
    "print('CV Linear Regression : {0:.3f}'.format(cv_linear.mean()))\n",
    "print('R2_score (test) : {0:.3f}'.format(r2_score_test))\n",
    "print('RMSE : {0:.3f}'.format(rmse))"
   ]
  },
  {
   "cell_type": "code",
   "execution_count": 8,
   "id": "5919f050",
   "metadata": {},
   "outputs": [],
   "source": [
    "svr = SVR()"
   ]
  },
  {
   "cell_type": "code",
   "execution_count": 9,
   "id": "66fa8899",
   "metadata": {},
   "outputs": [
    {
     "name": "stdout",
     "output_type": "stream",
     "text": [
      "Fitting 10 folds for each of 60 candidates, totalling 600 fits\n"
     ]
    },
    {
     "data": {
      "text/plain": [
       "GridSearchCV(cv=10, estimator=SVR(), n_jobs=-1,\n",
       "             param_grid={'C': [0.001, 0.01, 0.1, 1, 10, 100],\n",
       "                         'gamma': [0.001, 0.01, 0.1, 1, 'scale'],\n",
       "                         'kernel': ['rbf', 'sigmoid'], 'tol': [0.0001]},\n",
       "             verbose=4)"
      ]
     },
     "execution_count": 9,
     "metadata": {},
     "output_type": "execute_result"
    }
   ],
   "source": [
    "parameters =  { 'kernel' : ['rbf', 'sigmoid'],\n",
    "                 'gamma' : [0.001, 0.01, 0.1, 1, 'scale'],\n",
    "                 'tol' : [0.0001],\n",
    "                 'C': [0.001, 0.01, 0.1, 1, 10, 100] }\n",
    "svr_grid = GridSearchCV(estimator=svr, param_grid=parameters, cv=10, verbose=4, n_jobs=-1)\n",
    "svr_grid.fit(X_train, y_train.ravel())"
   ]
  },
  {
   "cell_type": "code",
   "execution_count": 10,
   "id": "0452aa9c",
   "metadata": {},
   "outputs": [
    {
     "name": "stdout",
     "output_type": "stream",
     "text": [
      "SVR(C=100, gamma=0.01, tol=0.0001)\n",
      "0.8206113992763451\n"
     ]
    }
   ],
   "source": [
    "svr = SVR(C=10, gamma=0.1, tol=0.0001)\n",
    "svr.fit(X_train, y_train.ravel())\n",
    "print(svr_grid.best_estimator_)\n",
    "print(svr_grid.best_score_)"
   ]
  },
  {
   "cell_type": "code",
   "execution_count": 11,
   "id": "37ed818e",
   "metadata": {},
   "outputs": [
    {
     "name": "stdout",
     "output_type": "stream",
     "text": [
      "CV : 0.821\n",
      "R2 score (test) : 0.881\n",
      "RMSE : 0.357\n"
     ]
    }
   ],
   "source": [
    "cv_svr = svr_grid.best_score_\n",
    "y_pred_svr = svr.predict(X_test)\n",
    "r2_score_svr = r2_score(y_test, y_pred_svr)\n",
    "\n",
    "rmse_svr = (np.sqrt(mean_squared_error(y_test, y_pred_svr)))\n",
    "\n",
    "print('CV : {0:.3f}'.format(cv_svr.mean()))\n",
    "print('R2 score (test) : {0:.3f}'.format(r2_score_svr))\n",
    "print('RMSE : {0:.3f}'.format(rmse_svr))"
   ]
  },
  {
   "cell_type": "code",
   "execution_count": 12,
   "id": "e4356cf9",
   "metadata": {},
   "outputs": [],
   "source": [
    "steps = [ ('scalar', StandardScaler()),\n",
    "        ('poly', PolynomialFeatures(degree=2)),\n",
    "        ('model', Ridge())]\n",
    "\n",
    "ridge_pipe = Pipeline(steps)"
   ]
  },
  {
   "cell_type": "code",
   "execution_count": 13,
   "id": "80985f95",
   "metadata": {},
   "outputs": [
    {
     "name": "stderr",
     "output_type": "stream",
     "text": [
      "C:\\Users\\p.sudesh.kanojia\\Anaconda3\\lib\\site-packages\\sklearn\\linear_model\\_ridge.py:147: LinAlgWarning: Ill-conditioned matrix (rcond=1.99626e-19): result may not be accurate.\n",
      "  return linalg.solve(A, Xy, sym_pos=True,\n",
      "C:\\Users\\p.sudesh.kanojia\\Anaconda3\\lib\\site-packages\\sklearn\\linear_model\\_ridge.py:147: LinAlgWarning: Ill-conditioned matrix (rcond=1.40431e-19): result may not be accurate.\n",
      "  return linalg.solve(A, Xy, sym_pos=True,\n"
     ]
    }
   ],
   "source": [
    "parameters = { 'model__alpha': [1e-15, 1e-10, 1e-8, 1e-3, 1e-2,1,2,5,10,20,25,35, 43,55,100], 'model__random_state' : [42]}\n",
    "reg_ridge = GridSearchCV(ridge_pipe, parameters, cv=10)\n",
    "reg_ridge = reg_ridge.fit(X_train, y_train.ravel())"
   ]
  },
  {
   "cell_type": "code",
   "execution_count": 14,
   "id": "11ab0747",
   "metadata": {},
   "outputs": [
    {
     "data": {
      "text/plain": [
       "(Pipeline(steps=[('scalar', StandardScaler()), ('poly', PolynomialFeatures()),\n",
       "                 ('model', Ridge(alpha=25, random_state=42))]),\n",
       " 0.8172992820111604)"
      ]
     },
     "execution_count": 14,
     "metadata": {},
     "output_type": "execute_result"
    }
   ],
   "source": [
    "reg_ridge.best_estimator_, reg_ridge.best_score_"
   ]
  },
  {
   "cell_type": "code",
   "execution_count": 15,
   "id": "0861ae5c",
   "metadata": {},
   "outputs": [
    {
     "name": "stdout",
     "output_type": "stream",
     "text": [
      "CV : 0.817\n",
      "R2 score (test) : 0.778\n",
      "RMSE : 0.487\n"
     ]
    }
   ],
   "source": [
    "ridge = Ridge(alpha=20, random_state=42)\n",
    "ridge.fit(X_train, y_train)\n",
    "cv_ridge = reg_ridge.best_score_\n",
    "\n",
    "y_pred_ridge = ridge.predict(X_test)\n",
    "r2_score_ridge= r2_score(y_test, y_pred_ridge)\n",
    "\n",
    "rmse_ridge = (np.sqrt(mean_squared_error(y_test, y_pred_ridge)))\n",
    "print('CV : {0:.3f}'.format(cv_ridge.mean()))\n",
    "print('R2 score (test) : {0:.3f}'.format(r2_score_ridge))\n",
    "print('RMSE : {0:.3f}'.format(rmse_ridge))"
   ]
  },
  {
   "cell_type": "code",
   "execution_count": 16,
   "id": "ea2e3c41",
   "metadata": {},
   "outputs": [],
   "source": [
    "reg_rf = RandomForestRegressor()\n",
    "parameters = { 'n_estimators':[600,1000,1200],\n",
    "             'max_features': [\"auto\"],\n",
    "             'max_depth':[40,50,60],\n",
    "             'min_samples_split': [5,7,9],\n",
    "             'min_samples_leaf': [7,10,12],\n",
    "             'criterion': ['mse']}\n",
    "\n",
    "reg_rf_grid = GridSearchCV(estimator=reg_rf, param_grid=parameters, cv=10, n_jobs=-1)\n",
    "reg_rf_grid = reg_rf_grid.fit(X_train, y_train.ravel())"
   ]
  },
  {
   "cell_type": "code",
   "execution_count": 17,
   "id": "e250c828",
   "metadata": {},
   "outputs": [
    {
     "data": {
      "text/plain": [
       "(0.8413661480764766,\n",
       " RandomForestRegressor(max_depth=50, min_samples_leaf=12, min_samples_split=7,\n",
       "                       n_estimators=1000))"
      ]
     },
     "execution_count": 17,
     "metadata": {},
     "output_type": "execute_result"
    }
   ],
   "source": [
    "reg_rf_grid.best_score_, reg_rf_grid.best_estimator_"
   ]
  },
  {
   "cell_type": "code",
   "execution_count": 18,
   "id": "905776d6",
   "metadata": {},
   "outputs": [
    {
     "data": {
      "text/plain": [
       "RandomForestRegressor(max_depth=50, min_samples_leaf=12, min_samples_split=5,\n",
       "                      n_estimators=600)"
      ]
     },
     "execution_count": 18,
     "metadata": {},
     "output_type": "execute_result"
    }
   ],
   "source": [
    "rf_reg = RandomForestRegressor(max_depth=50, min_samples_leaf=12, min_samples_split=5,\n",
    "                       n_estimators=600)\n",
    "rf_reg.fit(X_train, y_train.ravel())"
   ]
  },
  {
   "cell_type": "code",
   "execution_count": 19,
   "id": "2e1bcc86",
   "metadata": {},
   "outputs": [
    {
     "name": "stdout",
     "output_type": "stream",
     "text": [
      "CV : 0.841\n",
      "R2 score (test) : 0.896\n",
      "RMSE : 0.334\n"
     ]
    }
   ],
   "source": [
    "cv_rf = reg_rf_grid.best_score_\n",
    "y_pred_rf = rf_reg.predict(X_test)\n",
    "\n",
    "r2_score_rf = r2_score(y_test, y_pred_rf)\n",
    "rmse_rf = np.sqrt(mean_squared_error(y_test, y_pred_rf))\n",
    "\n",
    "print('CV : {0:.3f}'.format(cv_rf.mean()))\n",
    "print('R2 score (test) : {0:.3f}'.format(r2_score_rf))\n",
    "print('RMSE : {0:.3f}'.format(rmse_rf))"
   ]
  },
  {
   "cell_type": "code",
   "execution_count": 20,
   "id": "183a0fe0",
   "metadata": {},
   "outputs": [],
   "source": [
    "models = [('Linear Regression', rmse, r2_score_test, cv_linear.mean()),\n",
    "          ('Ridge Regression', rmse_ridge, r2_score_ridge, cv_ridge.mean()),\n",
    "          ('Support Vector Regression', rmse_svr, r2_score_svr, cv_svr.mean()),\n",
    "          ('Random Forest Regression', rmse_rf, r2_score_rf, cv_rf.mean())   \n",
    "         ]"
   ]
  },
  {
   "cell_type": "code",
   "execution_count": 21,
   "id": "b620815d",
   "metadata": {},
   "outputs": [
    {
     "data": {
      "text/html": [
       "<div>\n",
       "<style scoped>\n",
       "    .dataframe tbody tr th:only-of-type {\n",
       "        vertical-align: middle;\n",
       "    }\n",
       "\n",
       "    .dataframe tbody tr th {\n",
       "        vertical-align: top;\n",
       "    }\n",
       "\n",
       "    .dataframe thead th {\n",
       "        text-align: right;\n",
       "    }\n",
       "</style>\n",
       "<table border=\"1\" class=\"dataframe\">\n",
       "  <thead>\n",
       "    <tr style=\"text-align: right;\">\n",
       "      <th></th>\n",
       "      <th>Model</th>\n",
       "      <th>RMSE</th>\n",
       "      <th>R2_Score(test)</th>\n",
       "      <th>Cross-Validation</th>\n",
       "    </tr>\n",
       "  </thead>\n",
       "  <tbody>\n",
       "    <tr>\n",
       "      <th>0</th>\n",
       "      <td>Linear Regression</td>\n",
       "      <td>0.469299</td>\n",
       "      <td>0.794176</td>\n",
       "      <td>0.744544</td>\n",
       "    </tr>\n",
       "    <tr>\n",
       "      <th>1</th>\n",
       "      <td>Ridge Regression</td>\n",
       "      <td>0.487098</td>\n",
       "      <td>0.778268</td>\n",
       "      <td>0.817299</td>\n",
       "    </tr>\n",
       "    <tr>\n",
       "      <th>2</th>\n",
       "      <td>Support Vector Regression</td>\n",
       "      <td>0.356766</td>\n",
       "      <td>0.881051</td>\n",
       "      <td>0.820611</td>\n",
       "    </tr>\n",
       "    <tr>\n",
       "      <th>3</th>\n",
       "      <td>Random Forest Regression</td>\n",
       "      <td>0.334199</td>\n",
       "      <td>0.895622</td>\n",
       "      <td>0.841366</td>\n",
       "    </tr>\n",
       "  </tbody>\n",
       "</table>\n",
       "</div>"
      ],
      "text/plain": [
       "                       Model      RMSE  R2_Score(test)  Cross-Validation\n",
       "0          Linear Regression  0.469299        0.794176          0.744544\n",
       "1           Ridge Regression  0.487098        0.778268          0.817299\n",
       "2  Support Vector Regression  0.356766        0.881051          0.820611\n",
       "3   Random Forest Regression  0.334199        0.895622          0.841366"
      ]
     },
     "execution_count": 21,
     "metadata": {},
     "output_type": "execute_result"
    }
   ],
   "source": [
    "predict = pd.DataFrame(data = models, columns=['Model', 'RMSE', 'R2_Score(test)', 'Cross-Validation'])\n",
    "predict"
   ]
  },
  {
   "cell_type": "code",
   "execution_count": 22,
   "id": "7555fe97",
   "metadata": {},
   "outputs": [
    {
     "data": {
      "image/png": "[encoded data removed]",
      "text/plain": [
       "<Figure size 720x360 with 1 Axes>"
      ]
     },
     "metadata": {
      "needs_background": "light"
     },
     "output_type": "display_data"
    }
   ],
   "source": [
    "plt.figure(figsize=(10,5))\n",
    "predict.sort_values(by=['Cross-Validation'], ascending=False, inplace=True)\n",
    "sns.barplot(x='Cross-Validation', y='Model',data = predict, palette='viridis')\n",
    "plt.xlabel('Cross Validation Score')\n",
    "plt.ylabel('Model')\n",
    "plt.show()"
   ]
  },
  {
   "cell_type": "code",
   "execution_count": 23,
   "id": "49692667",
   "metadata": {},
   "outputs": [
    {
     "data": {
      "text/html": [
       "<div>\n",
       "<style scoped>\n",
       "    .dataframe tbody tr th:only-of-type {\n",
       "        vertical-align: middle;\n",
       "    }\n",
       "\n",
       "    .dataframe tbody tr th {\n",
       "        vertical-align: top;\n",
       "    }\n",
       "\n",
       "    .dataframe thead th {\n",
       "        text-align: right;\n",
       "    }\n",
       "</style>\n",
       "<table border=\"1\" class=\"dataframe\">\n",
       "  <thead>\n",
       "    <tr style=\"text-align: right;\">\n",
       "      <th></th>\n",
       "      <th>age</th>\n",
       "      <th>sex</th>\n",
       "      <th>bmi</th>\n",
       "      <th>children</th>\n",
       "      <th>smoker</th>\n",
       "      <th>region</th>\n",
       "      <th>expenses</th>\n",
       "    </tr>\n",
       "  </thead>\n",
       "  <tbody>\n",
       "    <tr>\n",
       "      <th>0</th>\n",
       "      <td>19</td>\n",
       "      <td>1</td>\n",
       "      <td>27.9</td>\n",
       "      <td>0</td>\n",
       "      <td>1</td>\n",
       "      <td>3</td>\n",
       "      <td>16884.92</td>\n",
       "    </tr>\n",
       "    <tr>\n",
       "      <th>1</th>\n",
       "      <td>18</td>\n",
       "      <td>0</td>\n",
       "      <td>33.8</td>\n",
       "      <td>1</td>\n",
       "      <td>0</td>\n",
       "      <td>2</td>\n",
       "      <td>1725.55</td>\n",
       "    </tr>\n",
       "    <tr>\n",
       "      <th>2</th>\n",
       "      <td>28</td>\n",
       "      <td>0</td>\n",
       "      <td>33.0</td>\n",
       "      <td>3</td>\n",
       "      <td>0</td>\n",
       "      <td>2</td>\n",
       "      <td>4449.46</td>\n",
       "    </tr>\n",
       "    <tr>\n",
       "      <th>3</th>\n",
       "      <td>33</td>\n",
       "      <td>0</td>\n",
       "      <td>22.7</td>\n",
       "      <td>0</td>\n",
       "      <td>0</td>\n",
       "      <td>0</td>\n",
       "      <td>21984.47</td>\n",
       "    </tr>\n",
       "    <tr>\n",
       "      <th>4</th>\n",
       "      <td>32</td>\n",
       "      <td>0</td>\n",
       "      <td>28.9</td>\n",
       "      <td>0</td>\n",
       "      <td>0</td>\n",
       "      <td>0</td>\n",
       "      <td>3866.86</td>\n",
       "    </tr>\n",
       "  </tbody>\n",
       "</table>\n",
       "</div>"
      ],
      "text/plain": [
       "   age  sex   bmi  children  smoker  region  expenses\n",
       "0   19    1  27.9         0       1       3  16884.92\n",
       "1   18    0  33.8         1       0       2   1725.55\n",
       "2   28    0  33.0         3       0       2   4449.46\n",
       "3   33    0  22.7         0       0       0  21984.47\n",
       "4   32    0  28.9         0       0       0   3866.86"
      ]
     },
     "execution_count": 23,
     "metadata": {},
     "output_type": "execute_result"
    }
   ],
   "source": [
    "data_copy.head()"
   ]
  },
  {
   "cell_type": "code",
   "execution_count": 24,
   "id": "62626fa8",
   "metadata": {},
   "outputs": [],
   "source": [
    "X_ = data_copy.drop('expenses',axis=1).values\n",
    "y_ = data_copy['expenses'].values.reshape(-1,1)\n",
    "\n",
    "from sklearn.model_selection import train_test_split\n",
    "X_train_, X_test_, y_train_, y_test_ = train_test_split(X_,y_,test_size=0.2, random_state=100)"
   ]
  },
  {
   "cell_type": "code",
   "execution_count": 25,
   "id": "25631d5b",
   "metadata": {},
   "outputs": [
    {
     "data": {
      "text/plain": [
       "RandomForestRegressor(max_depth=50, min_samples_leaf=12, min_samples_split=5,\n",
       "                      n_estimators=600)"
      ]
     },
     "execution_count": 25,
     "metadata": {},
     "output_type": "execute_result"
    }
   ],
   "source": [
    "rf_reg = RandomForestRegressor(max_depth=50, min_samples_leaf=12, min_samples_split=5,\n",
    "                       n_estimators=600)\n",
    "rf_reg.fit(X_train_, y_train_.ravel())"
   ]
  },
  {
   "cell_type": "code",
   "execution_count": 26,
   "id": "1908aec7",
   "metadata": {},
   "outputs": [
    {
     "name": "stdout",
     "output_type": "stream",
     "text": [
      "R2 score (train) : 0.879\n",
      "R2 score (test) : 0.896\n"
     ]
    }
   ],
   "source": [
    "y_pred_rf_train_ = rf_reg.predict(X_train_)\n",
    "r2_score_rf_train_ = r2_score(y_train_, y_pred_rf_train_)\n",
    "\n",
    "y_pred_rf_test_ = rf_reg.predict(X_test_)\n",
    "r2_score_rf_test_ = r2_score(y_test_, y_pred_rf_test_)\n",
    "\n",
    "print('R2 score (train) : {0:.3f}'.format(r2_score_rf_train_))\n",
    "print('R2 score (test) : {0:.3f}'.format(r2_score_rf_test_))"
   ]
  },
  {
   "cell_type": "code",
   "execution_count": 27,
   "id": "a6e16488",
   "metadata": {},
   "outputs": [],
   "source": [
    "filename = 'rf_tuned.pkl'\n",
    "pickle.dump(rf_reg, open(filename, 'wb'))"
   ]
  },
  {
   "cell_type": "code",
   "execution_count": 28,
   "id": "da08c467",
   "metadata": {},
   "outputs": [
    {
     "data": {
      "text/plain": [
       "0.896485347381163"
      ]
     },
     "execution_count": 28,
     "metadata": {},
     "output_type": "execute_result"
    }
   ],
   "source": [
    "load_model = pickle.load(open(filename, 'rb'))\n",
    "model_score = load_model.score(X_test_, y_test_)\n",
    "model_score"
   ]
  }
 ],
 "metadata": {
  "kernelspec": {
   "display_name": "Python 3",
   "language": "python",
   "name": "python3"
  },
  "language_info": {
   "codemirror_mode": {
    "name": "ipython",
    "version": 3
   },
   "file_extension": ".py",
   "mimetype": "text/x-python",
   "name": "python",
   "nbconvert_exporter": "python",
   "pygments_lexer": "ipython3",
   "version": "3.8.8"
  }
 },
 "nbformat": 4,
 "nbformat_minor": 5
}
